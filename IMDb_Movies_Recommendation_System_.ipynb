{
  "nbformat": 4,
  "nbformat_minor": 0,
  "metadata": {
    "colab": {
      "provenance": []
    },
    "kernelspec": {
      "name": "python3",
      "display_name": "Python 3"
    },
    "language_info": {
      "name": "python"
    }
  },
  "cells": [
    {
      "cell_type": "markdown",
      "source": [
        "# **Introduction**\n",
        "This model is built on a dataset provided by IMDb, featuring the top 250 highest-rated movies of all time. By utilizing this dataset, the model can offer tailored movie recommendations based on both genre and plot, allowing users to discover films that best align with their preferences. Through analyzing patterns within this curated collection, the model aims to enhance the movie selection experience, making it intuitive and genre-specific for movie enthusiasts."
      ],
      "metadata": {
        "id": "F0I5kkiTRSmn"
      }
    },
    {
      "cell_type": "code",
      "execution_count": 1,
      "metadata": {
        "id": "XCCrYUz9RIQe"
      },
      "outputs": [],
      "source": [
        "# Load necessary libraries\n",
        "import pandas as pd\n",
        "from sklearn.feature_extraction.text import TfidfVectorizer\n",
        "from sklearn.metrics.pairwise import cosine_similarity"
      ]
    },
    {
      "cell_type": "code",
      "source": [
        "# Load the dataset\n",
        "from google.colab import drive\n",
        "drive.mount('/content/drive')\n",
        "movies_df = pd.read_csv('/content/IMDB_Top250Engmovies2_OMDB_Detailed.csv')"
      ],
      "metadata": {
        "colab": {
          "base_uri": "https://localhost:8080/"
        },
        "id": "L64YXnCoSX2y",
        "outputId": "9c954452-2f37-4562-d7b5-f96ddf52cdf3"
      },
      "execution_count": 2,
      "outputs": [
        {
          "output_type": "stream",
          "name": "stdout",
          "text": [
            "Mounted at /content/drive\n"
          ]
        }
      ]
    },
    {
      "cell_type": "code",
      "source": [
        "# Fill any missing values in 'Plot' and 'Genre' with empty strings\n",
        "movies_df['Plot'] = movies_df['Plot'].fillna('')\n",
        "movies_df['Genre'] = movies_df['Director'].fillna('')"
      ],
      "metadata": {
        "id": "wckl5SD6SoC4"
      },
      "execution_count": 3,
      "outputs": []
    },
    {
      "cell_type": "code",
      "source": [
        "# Combine 'Plot' and 'Genre' into a single \"features\" column\n",
        "movies_df['features'] = movies_df['Plot'] + \" \" + movies_df['Director']"
      ],
      "metadata": {
        "id": "0CzdfaJ4SsVm"
      },
      "execution_count": 4,
      "outputs": []
    },
    {
      "cell_type": "code",
      "source": [
        "# Initialize the TF-IDF Vectorizer\n",
        "tfidf = TfidfVectorizer(stop_words='english')"
      ],
      "metadata": {
        "id": "2RrHB4bWSv0U"
      },
      "execution_count": 5,
      "outputs": []
    },
    {
      "cell_type": "code",
      "source": [
        "# Fit and transform the features column\n",
        "tfidf_matrix = tfidf.fit_transform(movies_df['features'])"
      ],
      "metadata": {
        "id": "FIjIKKgiSzRn"
      },
      "execution_count": 6,
      "outputs": []
    },
    {
      "cell_type": "code",
      "source": [
        "# Compute cosine similarity matrix\n",
        "cosine_sim = cosine_similarity(tfidf_matrix, tfidf_matrix)"
      ],
      "metadata": {
        "id": "vcpsII9DS2ky"
      },
      "execution_count": 7,
      "outputs": []
    },
    {
      "cell_type": "code",
      "source": [
        "# Define the recommendation function\n",
        "def recommend_movies(title, cosine_sim=cosine_sim, df=movies_df, num_recommendations=6):\n",
        "\n",
        "    # Get the index of the movie that matches the title\n",
        "    idx = df[df['Title'] == title].index[0]\n",
        "\n",
        "    # Get the similarity scores for this movie with all other movies\n",
        "    sim_scores = list(enumerate(cosine_sim[idx]))\n",
        "\n",
        "    # Sort movies based on similarity scores\n",
        "    sim_scores = sorted(sim_scores, key=lambda x: x[1], reverse=True)\n",
        "\n",
        "    # Get indices of the most similar movies (excluding the first one as it’s the input movie itself)\n",
        "    sim_scores = sim_scores[1:num_recommendations+1]\n",
        "    movie_indices = [i[0] for i in sim_scores]\n",
        "\n",
        "    # Return the top similar movies\n",
        "    return df['Title'].iloc[movie_indices].tolist()"
      ],
      "metadata": {
        "id": "48Ttn7V1S5i8"
      },
      "execution_count": 8,
      "outputs": []
    },
    {
      "cell_type": "code",
      "source": [
        "# get recommendations for a specific movie\n",
        "recommended_movies = recommend_movies(\"Hacksaw Ridge\")\n",
        "print(\"Recommended movies:\", recommended_movies)\n",
        "recommended_movies = recommend_movies(\"The Dark Knight\")\n",
        "print(\"Recommended movies:\", recommended_movies)\n",
        "recommended_movies = recommend_movies(\"Pulp Fiction\")\n",
        "print(\"Recommended movies:\", recommended_movies)"
      ],
      "metadata": {
        "colab": {
          "base_uri": "https://localhost:8080/"
        },
        "id": "Ydtx8OhCS-LT",
        "outputId": "c8ee5c3c-bf26-44c9-b779-7d36e08ef008"
      },
      "execution_count": 9,
      "outputs": [
        {
          "output_type": "stream",
          "name": "stdout",
          "text": [
            "Recommended movies: ['Young Frankenstein', 'Cool Hand Luke', 'Braveheart', 'Gone with the Wind', 'Patton', 'Judgment at Nuremberg']\n",
            "Recommended movies: ['The Dark Knight Rises', 'Batman Begins', 'Interstellar', 'Jaws', 'Memento', 'The Prestige']\n",
            "Recommended movies: ['Django Unchained', 'The Shawshank Redemption', 'Some Like It Hot', 'Raging Bull', 'Reservoir Dogs', 'Sin City']\n"
          ]
        }
      ]
    }
  ]
}