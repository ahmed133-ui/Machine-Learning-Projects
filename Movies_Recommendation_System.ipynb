{
  "nbformat": 4,
  "nbformat_minor": 0,
  "metadata": {
    "colab": {
      "provenance": []
    },
    "kernelspec": {
      "name": "python3",
      "display_name": "Python 3"
    },
    "language_info": {
      "name": "python"
    }
  },
  "cells": [
    {
      "cell_type": "code",
      "execution_count": 5,
      "metadata": {
        "colab": {
          "base_uri": "https://localhost:8080/"
        },
        "id": "9lzqXqmNInJF",
        "outputId": "33349038-74a0-4d2a-d644-e8fbd3ed49b2"
      },
      "outputs": [
        {
          "output_type": "stream",
          "name": "stdout",
          "text": [
            "Drive already mounted at /content/drive; to attempt to forcibly remount, call drive.mount(\"/content/drive\", force_remount=True).\n",
            "Recommended movies: ['Gone with the Wind', 'Cool Hand Luke', 'Patton', '12 Years a Slave', 'Young Frankenstein', 'Gandhi', 'JFK']\n"
          ]
        }
      ],
      "source": [
        "import pandas as pd\n",
        "from sklearn.feature_extraction.text import TfidfVectorizer\n",
        "from sklearn.metrics.pairwise import cosine_similarity\n",
        "from google.colab import drive\n",
        "drive.mount('/content/drive')\n",
        "df = pd.read_csv('/content/IMDB_Top250Engmovies2_OMDB_Detailed.csv')\n",
        "df['Plot'] = df['Plot'].fillna('')\n",
        "df['Genre'] = df['Genre'].fillna('')\n",
        "df['features'] = df['Plot'] + ' ' + df['Genre']\n",
        "tfidf = TfidfVectorizer(stop_words='english')\n",
        "tfidf_matrix = tfidf.fit_transform(df['features'])\n",
        "cosine_sim = cosine_similarity(tfidf_matrix, tfidf_matrix)\n",
        "def recommended_movies(title, cosine_sim=cosine_sim,df=df,num_recommendations=7):\n",
        "    idx = df[df['Title'] == title].index[0]\n",
        "    sim_scores = list(enumerate(cosine_sim[idx]))\n",
        "    sim_scores = sorted(sim_scores, key=lambda x: x[1], reverse=True)\n",
        "    sim_scores = sim_scores[1:num_recommendations+1]\n",
        "    movie_indices = [i[0] for i in sim_scores]\n",
        "    return df['Title'].iloc[movie_indices].tolist()\n",
        "recommended_movies=recommended_movies('Hacksaw Ridge')\n",
        "print(\"Recommended movies:\", recommended_movies)"
      ]
    },
    {
      "cell_type": "markdown",
      "source": [],
      "metadata": {
        "id": "w7YfogIiJ1nG"
      }
    }
  ]
}