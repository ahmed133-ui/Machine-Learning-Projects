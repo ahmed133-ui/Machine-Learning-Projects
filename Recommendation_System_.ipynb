{
  "nbformat": 4,
  "nbformat_minor": 0,
  "metadata": {
    "colab": {
      "provenance": []
    },
    "kernelspec": {
      "name": "python3",
      "display_name": "Python 3"
    },
    "language_info": {
      "name": "python"
    }
  },
  "cells": [
    {
      "cell_type": "code",
      "execution_count": null,
      "metadata": {
        "colab": {
          "base_uri": "https://localhost:8080/"
        },
        "id": "4FYL9XFclkpZ",
        "outputId": "068b2132-1398-4642-95e3-aea08c6891d3"
      },
      "outputs": [
        {
          "output_type": "stream",
          "name": "stdout",
          "text": [
            "Drive already mounted at /content/drive; to attempt to forcibly remount, call drive.mount(\"/content/drive\", force_remount=True).\n",
            "Recommended movies: ['Young Frankenstein', 'Cool Hand Luke', 'Braveheart', 'Gone with the Wind', 'Patton', 'Judgment at Nuremberg']\n",
            "Recommended movies: ['The Dark Knight Rises', 'Batman Begins', 'Interstellar', 'Jaws', 'Memento', 'The Prestige']\n",
            "Recommended movies: ['Django Unchained', 'The Shawshank Redemption', 'Some Like It Hot', 'Raging Bull', 'Reservoir Dogs', 'Sin City']\n"
          ]
        }
      ],
      "source": [
        "# Load necessary libraries\n",
        "import pandas as pd\n",
        "from sklearn.feature_extraction.text import TfidfVectorizer\n",
        "from sklearn.metrics.pairwise import cosine_similarity\n",
        "# Load the dataset\n",
        "from google.colab import drive\n",
        "drive.mount('/content/drive')\n",
        "movies_df = pd.read_csv('/content/IMDB_Top250Engmovies2_OMDB_Detailed.csv')\n",
        "\n",
        "# Fill any missing values in 'Plot' and 'Genre' with empty strings\n",
        "movies_df['Plot'] = movies_df['Plot'].fillna('')\n",
        "movies_df['Genre'] = movies_df['Director'].fillna('')\n",
        "\n",
        "# Combine 'Plot' and 'Genre' into a single \"features\" column\n",
        "movies_df['features'] = movies_df['Plot'] + \" \" + movies_df['Director']\n",
        "\n",
        "# Initialize the TF-IDF Vectorizer\n",
        "tfidf = TfidfVectorizer(stop_words='english')\n",
        "\n",
        "# Fit and transform the features column\n",
        "tfidf_matrix = tfidf.fit_transform(movies_df['features'])\n",
        "\n",
        "# Compute cosine similarity matrix\n",
        "cosine_sim = cosine_similarity(tfidf_matrix, tfidf_matrix)\n",
        "\n",
        "# Define the recommendation function\n",
        "def recommend_movies(title, cosine_sim=cosine_sim, df=movies_df, num_recommendations=6):\n",
        "\n",
        "    # Get the index of the movie that matches the title\n",
        "    idx = df[df['Title'] == title].index[0]\n",
        "\n",
        "    # Get the similarity scores for this movie with all other movies\n",
        "    sim_scores = list(enumerate(cosine_sim[idx]))\n",
        "\n",
        "    # Sort movies based on similarity scores\n",
        "    sim_scores = sorted(sim_scores, key=lambda x: x[1], reverse=True)\n",
        "\n",
        "    # Get indices of the most similar movies (excluding the first one as it’s the input movie itself)\n",
        "    sim_scores = sim_scores[1:num_recommendations+1]\n",
        "    movie_indices = [i[0] for i in sim_scores]\n",
        "\n",
        "    # Return the top similar movies\n",
        "    return df['Title'].iloc[movie_indices].tolist()\n",
        "\n",
        "# get recommendations for a specific movie\n",
        "recommended_movies = recommend_movies(\"Hacksaw Ridge\")\n",
        "print(\"Recommended movies:\", recommended_movies)\n",
        "recommended_movies = recommend_movies(\"The Dark Knight\")\n",
        "print(\"Recommended movies:\", recommended_movies)\n",
        "recommended_movies = recommend_movies(\"Pulp Fiction\")\n",
        "print(\"Recommended movies:\", recommended_movies)"
      ]
    }
  ]
}